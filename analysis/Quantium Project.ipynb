{
 "cells": [
  {
   "cell_type": "markdown",
   "metadata": {},
   "source": [
    "# Quantium Data Analytics Virtual Experience\n",
    "## Part 1: Data Preparation and Customer Analytics\n",
    "We need to present a strategic recommendation to Julia that is supported by data which she can then use for the upcoming category review however to do so we need to analyse the data to understand the current purchasing trends and behaviours. The client is particularly interested in customer segments and their chip purchasing behaviour. Consider what metrics would help describe the customers’ purchasing behaviour.  "
   ]
  },
  {
   "cell_type": "code",
   "execution_count": 594,
   "metadata": {},
   "outputs": [],
   "source": [
    "import pandas as pd\n",
    "import pandas.io.sql as sqlio\n",
    "import sys\n",
    "import psycopg2"
   ]
  },
  {
   "cell_type": "code",
   "execution_count": 611,
   "metadata": {},
   "outputs": [],
   "source": [
    "try:\n",
    "    db = psycopg2.connect(\"host=127.0.0.1 dbname=chips\")\n",
    "    cur = db.cursor()\n",
    "    query = \"\"\"\n",
    "        drop table purchases;\n",
    "        drop table transactions;\n",
    "\n",
    "        CREATE TABLE purchases (\n",
    "            LYLTY_CARD_NBR integer,\n",
    "            LIFESTAGE text,\n",
    "            PREMIUM_CUSTOMER text,\n",
    "            PRIMARY KEY (LYLTY_CARD_NBR)\n",
    "        );\n",
    "\n",
    "        CREATE TABLE transactions (\n",
    "            index integer,\n",
    "            DATE integer,\n",
    "            STORE_NBR integer,\n",
    "            LYLTY_CARD_NBR integer,\n",
    "            TXN_ID integer,\n",
    "            PROD_NBR integer,\n",
    "            PROD_NAME text,\n",
    "            PROD_QTY integer,\n",
    "            TOT_SALES float,\n",
    "            PRIMARY KEY (index)\n",
    "        );\"\"\"\n",
    "    cur.execute(query)\n",
    "except psycopg2.Error as err:\n",
    "    print(\"DB error: \", err)"
   ]
  },
  {
   "cell_type": "code",
   "execution_count": 612,
   "metadata": {},
   "outputs": [],
   "source": [
    "with open('QVI_transaction_data.csv', 'r') as f:\n",
    "    next(f)\n",
    "    cur.copy_from(f, 'transactions', sep=',')\n",
    "db.commit()"
   ]
  },
  {
   "cell_type": "code",
   "execution_count": 397,
   "metadata": {},
   "outputs": [],
   "source": [
    "query = \"select * from transactions;\"\n",
    "transact_df = sqlio.read_sql_query(query, db)"
   ]
  },
  {
   "cell_type": "code",
   "execution_count": 606,
   "metadata": {},
   "outputs": [],
   "source": [
    "with open('QVI_purchase_behaviour.csv', 'r') as f:\n",
    "    next(f)\n",
    "    cur.copy_from(f, 'purchases', sep=',')\n",
    "db.commit()"
   ]
  },
  {
   "cell_type": "code",
   "execution_count": 399,
   "metadata": {},
   "outputs": [],
   "source": [
    "query = \"select * from purchases;\"\n",
    "purchase_df = sqlio.read_sql_query(query, db)"
   ]
  },
  {
   "cell_type": "code",
   "execution_count": 400,
   "metadata": {},
   "outputs": [
    {
     "data": {
      "text/html": [
       "<div>\n",
       "<style scoped>\n",
       "    .dataframe tbody tr th:only-of-type {\n",
       "        vertical-align: middle;\n",
       "    }\n",
       "\n",
       "    .dataframe tbody tr th {\n",
       "        vertical-align: top;\n",
       "    }\n",
       "\n",
       "    .dataframe thead th {\n",
       "        text-align: right;\n",
       "    }\n",
       "</style>\n",
       "<table border=\"1\" class=\"dataframe\">\n",
       "  <thead>\n",
       "    <tr style=\"text-align: right;\">\n",
       "      <th></th>\n",
       "      <th>lylty_card_nbr</th>\n",
       "      <th>lifestage</th>\n",
       "      <th>premium_customer</th>\n",
       "    </tr>\n",
       "  </thead>\n",
       "  <tbody>\n",
       "    <tr>\n",
       "      <th>0</th>\n",
       "      <td>1000</td>\n",
       "      <td>YOUNG SINGLES/COUPLES</td>\n",
       "      <td>Premium</td>\n",
       "    </tr>\n",
       "    <tr>\n",
       "      <th>1</th>\n",
       "      <td>1002</td>\n",
       "      <td>YOUNG SINGLES/COUPLES</td>\n",
       "      <td>Mainstream</td>\n",
       "    </tr>\n",
       "    <tr>\n",
       "      <th>2</th>\n",
       "      <td>1003</td>\n",
       "      <td>YOUNG FAMILIES</td>\n",
       "      <td>Budget</td>\n",
       "    </tr>\n",
       "    <tr>\n",
       "      <th>3</th>\n",
       "      <td>1004</td>\n",
       "      <td>OLDER SINGLES/COUPLES</td>\n",
       "      <td>Mainstream</td>\n",
       "    </tr>\n",
       "    <tr>\n",
       "      <th>4</th>\n",
       "      <td>1005</td>\n",
       "      <td>MIDAGE SINGLES/COUPLES</td>\n",
       "      <td>Mainstream</td>\n",
       "    </tr>\n",
       "  </tbody>\n",
       "</table>\n",
       "</div>"
      ],
      "text/plain": [
       "   lylty_card_nbr               lifestage premium_customer\n",
       "0            1000   YOUNG SINGLES/COUPLES          Premium\n",
       "1            1002   YOUNG SINGLES/COUPLES       Mainstream\n",
       "2            1003          YOUNG FAMILIES           Budget\n",
       "3            1004   OLDER SINGLES/COUPLES       Mainstream\n",
       "4            1005  MIDAGE SINGLES/COUPLES       Mainstream"
      ]
     },
     "execution_count": 400,
     "metadata": {},
     "output_type": "execute_result"
    }
   ],
   "source": [
    "purchase_df.head()"
   ]
  },
  {
   "cell_type": "code",
   "execution_count": 401,
   "metadata": {
    "scrolled": true
   },
   "outputs": [
    {
     "data": {
      "text/html": [
       "<div>\n",
       "<style scoped>\n",
       "    .dataframe tbody tr th:only-of-type {\n",
       "        vertical-align: middle;\n",
       "    }\n",
       "\n",
       "    .dataframe tbody tr th {\n",
       "        vertical-align: top;\n",
       "    }\n",
       "\n",
       "    .dataframe thead th {\n",
       "        text-align: right;\n",
       "    }\n",
       "</style>\n",
       "<table border=\"1\" class=\"dataframe\">\n",
       "  <thead>\n",
       "    <tr style=\"text-align: right;\">\n",
       "      <th></th>\n",
       "      <th>index</th>\n",
       "      <th>date</th>\n",
       "      <th>store_nbr</th>\n",
       "      <th>lylty_card_nbr</th>\n",
       "      <th>txn_id</th>\n",
       "      <th>prod_nbr</th>\n",
       "      <th>prod_name</th>\n",
       "      <th>prod_qty</th>\n",
       "      <th>tot_sales</th>\n",
       "    </tr>\n",
       "  </thead>\n",
       "  <tbody>\n",
       "    <tr>\n",
       "      <th>0</th>\n",
       "      <td>0</td>\n",
       "      <td>43390</td>\n",
       "      <td>1</td>\n",
       "      <td>1000</td>\n",
       "      <td>1</td>\n",
       "      <td>5</td>\n",
       "      <td>Natural Chip        Compny SeaSalt175g</td>\n",
       "      <td>2</td>\n",
       "      <td>6.0</td>\n",
       "    </tr>\n",
       "    <tr>\n",
       "      <th>1</th>\n",
       "      <td>1</td>\n",
       "      <td>43599</td>\n",
       "      <td>1</td>\n",
       "      <td>1307</td>\n",
       "      <td>348</td>\n",
       "      <td>66</td>\n",
       "      <td>CCs Nacho Cheese    175g</td>\n",
       "      <td>3</td>\n",
       "      <td>6.3</td>\n",
       "    </tr>\n",
       "    <tr>\n",
       "      <th>2</th>\n",
       "      <td>2</td>\n",
       "      <td>43605</td>\n",
       "      <td>1</td>\n",
       "      <td>1343</td>\n",
       "      <td>383</td>\n",
       "      <td>61</td>\n",
       "      <td>Smiths Crinkle Cut  Chips Chicken 170g</td>\n",
       "      <td>2</td>\n",
       "      <td>2.9</td>\n",
       "    </tr>\n",
       "    <tr>\n",
       "      <th>3</th>\n",
       "      <td>3</td>\n",
       "      <td>43329</td>\n",
       "      <td>2</td>\n",
       "      <td>2373</td>\n",
       "      <td>974</td>\n",
       "      <td>69</td>\n",
       "      <td>Smiths Chip Thinly  S/Cream&amp;Onion 175g</td>\n",
       "      <td>5</td>\n",
       "      <td>15.0</td>\n",
       "    </tr>\n",
       "    <tr>\n",
       "      <th>4</th>\n",
       "      <td>4</td>\n",
       "      <td>43330</td>\n",
       "      <td>2</td>\n",
       "      <td>2426</td>\n",
       "      <td>1038</td>\n",
       "      <td>108</td>\n",
       "      <td>Kettle Tortilla ChpsHny&amp;Jlpno Chili 150g</td>\n",
       "      <td>3</td>\n",
       "      <td>13.8</td>\n",
       "    </tr>\n",
       "  </tbody>\n",
       "</table>\n",
       "</div>"
      ],
      "text/plain": [
       "   index   date  store_nbr  lylty_card_nbr  txn_id  prod_nbr  \\\n",
       "0      0  43390          1            1000       1         5   \n",
       "1      1  43599          1            1307     348        66   \n",
       "2      2  43605          1            1343     383        61   \n",
       "3      3  43329          2            2373     974        69   \n",
       "4      4  43330          2            2426    1038       108   \n",
       "\n",
       "                                  prod_name  prod_qty  tot_sales  \n",
       "0    Natural Chip        Compny SeaSalt175g         2        6.0  \n",
       "1                  CCs Nacho Cheese    175g         3        6.3  \n",
       "2    Smiths Crinkle Cut  Chips Chicken 170g         2        2.9  \n",
       "3    Smiths Chip Thinly  S/Cream&Onion 175g         5       15.0  \n",
       "4  Kettle Tortilla ChpsHny&Jlpno Chili 150g         3       13.8  "
      ]
     },
     "execution_count": 401,
     "metadata": {},
     "output_type": "execute_result"
    }
   ],
   "source": [
    "transact_df.head()"
   ]
  },
  {
   "cell_type": "code",
   "execution_count": 402,
   "metadata": {},
   "outputs": [
    {
     "data": {
      "text/plain": [
       "(72637, 3)"
      ]
     },
     "execution_count": 402,
     "metadata": {},
     "output_type": "execute_result"
    }
   ],
   "source": [
    "purchase_df.shape"
   ]
  },
  {
   "cell_type": "code",
   "execution_count": 403,
   "metadata": {
    "scrolled": true
   },
   "outputs": [
    {
     "data": {
      "text/plain": [
       "(264836, 9)"
      ]
     },
     "execution_count": 403,
     "metadata": {},
     "output_type": "execute_result"
    }
   ],
   "source": [
    "transact_df.shape"
   ]
  },
  {
   "cell_type": "code",
   "execution_count": 404,
   "metadata": {},
   "outputs": [
    {
     "data": {
      "text/plain": [
       "lylty_card_nbr       int64\n",
       "lifestage           object\n",
       "premium_customer    object\n",
       "dtype: object"
      ]
     },
     "execution_count": 404,
     "metadata": {},
     "output_type": "execute_result"
    }
   ],
   "source": [
    "purchase_df.dtypes"
   ]
  },
  {
   "cell_type": "code",
   "execution_count": 406,
   "metadata": {},
   "outputs": [
    {
     "data": {
      "text/plain": [
       "0           1000\n",
       "1           1002\n",
       "2           1003\n",
       "3           1004\n",
       "4           1005\n",
       "          ...   \n",
       "72632    2370651\n",
       "72633    2370701\n",
       "72634    2370751\n",
       "72635    2370961\n",
       "72636    2373711\n",
       "Name: lylty_card_nbr, Length: 72637, dtype: object"
      ]
     },
     "execution_count": 406,
     "metadata": {},
     "output_type": "execute_result"
    }
   ],
   "source": [
    "purchase_df[\"lylty_card_nbr\"].astype(\"object\")"
   ]
  },
  {
   "cell_type": "code",
   "execution_count": 407,
   "metadata": {},
   "outputs": [
    {
     "data": {
      "text/plain": [
       "0           1000\n",
       "1           1307\n",
       "2           1343\n",
       "3           2373\n",
       "4           2426\n",
       "           ...  \n",
       "264831    272319\n",
       "264832    272358\n",
       "264833    272379\n",
       "264834    272379\n",
       "264835    272380\n",
       "Name: lylty_card_nbr, Length: 264836, dtype: object"
      ]
     },
     "execution_count": 407,
     "metadata": {},
     "output_type": "execute_result"
    }
   ],
   "source": [
    "transact_df[\"lylty_card_nbr\"].astype(\"object\")"
   ]
  },
  {
   "cell_type": "code",
   "execution_count": 408,
   "metadata": {},
   "outputs": [
    {
     "data": {
      "text/plain": [
       "index               int64\n",
       "date                int64\n",
       "store_nbr           int64\n",
       "lylty_card_nbr      int64\n",
       "txn_id              int64\n",
       "prod_nbr            int64\n",
       "prod_name          object\n",
       "prod_qty            int64\n",
       "tot_sales         float64\n",
       "dtype: object"
      ]
     },
     "execution_count": 408,
     "metadata": {},
     "output_type": "execute_result"
    }
   ],
   "source": [
    "transact_df.dtypes"
   ]
  },
  {
   "cell_type": "code",
   "execution_count": 409,
   "metadata": {
    "scrolled": true
   },
   "outputs": [
    {
     "data": {
      "text/html": [
       "<div>\n",
       "<style scoped>\n",
       "    .dataframe tbody tr th:only-of-type {\n",
       "        vertical-align: middle;\n",
       "    }\n",
       "\n",
       "    .dataframe tbody tr th {\n",
       "        vertical-align: top;\n",
       "    }\n",
       "\n",
       "    .dataframe thead th {\n",
       "        text-align: right;\n",
       "    }\n",
       "</style>\n",
       "<table border=\"1\" class=\"dataframe\">\n",
       "  <thead>\n",
       "    <tr style=\"text-align: right;\">\n",
       "      <th></th>\n",
       "      <th>index</th>\n",
       "      <th>date</th>\n",
       "      <th>store_nbr</th>\n",
       "      <th>lylty_card_nbr</th>\n",
       "      <th>txn_id</th>\n",
       "      <th>prod_nbr</th>\n",
       "      <th>prod_qty</th>\n",
       "      <th>tot_sales</th>\n",
       "    </tr>\n",
       "  </thead>\n",
       "  <tbody>\n",
       "    <tr>\n",
       "      <th>count</th>\n",
       "      <td>264836.000000</td>\n",
       "      <td>264836.000000</td>\n",
       "      <td>264836.00000</td>\n",
       "      <td>2.648360e+05</td>\n",
       "      <td>2.648360e+05</td>\n",
       "      <td>264836.000000</td>\n",
       "      <td>264836.000000</td>\n",
       "      <td>264836.000000</td>\n",
       "    </tr>\n",
       "    <tr>\n",
       "      <th>mean</th>\n",
       "      <td>132417.500000</td>\n",
       "      <td>43464.036260</td>\n",
       "      <td>135.08011</td>\n",
       "      <td>1.355495e+05</td>\n",
       "      <td>1.351583e+05</td>\n",
       "      <td>56.583157</td>\n",
       "      <td>1.907309</td>\n",
       "      <td>7.304200</td>\n",
       "    </tr>\n",
       "    <tr>\n",
       "      <th>std</th>\n",
       "      <td>76451.712283</td>\n",
       "      <td>105.389282</td>\n",
       "      <td>76.78418</td>\n",
       "      <td>8.057998e+04</td>\n",
       "      <td>7.813303e+04</td>\n",
       "      <td>32.826638</td>\n",
       "      <td>0.643654</td>\n",
       "      <td>3.083226</td>\n",
       "    </tr>\n",
       "    <tr>\n",
       "      <th>min</th>\n",
       "      <td>0.000000</td>\n",
       "      <td>43282.000000</td>\n",
       "      <td>1.00000</td>\n",
       "      <td>1.000000e+03</td>\n",
       "      <td>1.000000e+00</td>\n",
       "      <td>1.000000</td>\n",
       "      <td>1.000000</td>\n",
       "      <td>1.500000</td>\n",
       "    </tr>\n",
       "    <tr>\n",
       "      <th>25%</th>\n",
       "      <td>66208.750000</td>\n",
       "      <td>43373.000000</td>\n",
       "      <td>70.00000</td>\n",
       "      <td>7.002100e+04</td>\n",
       "      <td>6.760150e+04</td>\n",
       "      <td>28.000000</td>\n",
       "      <td>2.000000</td>\n",
       "      <td>5.400000</td>\n",
       "    </tr>\n",
       "    <tr>\n",
       "      <th>50%</th>\n",
       "      <td>132417.500000</td>\n",
       "      <td>43464.000000</td>\n",
       "      <td>130.00000</td>\n",
       "      <td>1.303575e+05</td>\n",
       "      <td>1.351375e+05</td>\n",
       "      <td>56.000000</td>\n",
       "      <td>2.000000</td>\n",
       "      <td>7.400000</td>\n",
       "    </tr>\n",
       "    <tr>\n",
       "      <th>75%</th>\n",
       "      <td>198626.250000</td>\n",
       "      <td>43555.000000</td>\n",
       "      <td>203.00000</td>\n",
       "      <td>2.030942e+05</td>\n",
       "      <td>2.027012e+05</td>\n",
       "      <td>85.000000</td>\n",
       "      <td>2.000000</td>\n",
       "      <td>9.200000</td>\n",
       "    </tr>\n",
       "    <tr>\n",
       "      <th>max</th>\n",
       "      <td>264835.000000</td>\n",
       "      <td>43646.000000</td>\n",
       "      <td>272.00000</td>\n",
       "      <td>2.373711e+06</td>\n",
       "      <td>2.415841e+06</td>\n",
       "      <td>114.000000</td>\n",
       "      <td>200.000000</td>\n",
       "      <td>650.000000</td>\n",
       "    </tr>\n",
       "  </tbody>\n",
       "</table>\n",
       "</div>"
      ],
      "text/plain": [
       "               index           date     store_nbr  lylty_card_nbr  \\\n",
       "count  264836.000000  264836.000000  264836.00000    2.648360e+05   \n",
       "mean   132417.500000   43464.036260     135.08011    1.355495e+05   \n",
       "std     76451.712283     105.389282      76.78418    8.057998e+04   \n",
       "min         0.000000   43282.000000       1.00000    1.000000e+03   \n",
       "25%     66208.750000   43373.000000      70.00000    7.002100e+04   \n",
       "50%    132417.500000   43464.000000     130.00000    1.303575e+05   \n",
       "75%    198626.250000   43555.000000     203.00000    2.030942e+05   \n",
       "max    264835.000000   43646.000000     272.00000    2.373711e+06   \n",
       "\n",
       "             txn_id       prod_nbr       prod_qty      tot_sales  \n",
       "count  2.648360e+05  264836.000000  264836.000000  264836.000000  \n",
       "mean   1.351583e+05      56.583157       1.907309       7.304200  \n",
       "std    7.813303e+04      32.826638       0.643654       3.083226  \n",
       "min    1.000000e+00       1.000000       1.000000       1.500000  \n",
       "25%    6.760150e+04      28.000000       2.000000       5.400000  \n",
       "50%    1.351375e+05      56.000000       2.000000       7.400000  \n",
       "75%    2.027012e+05      85.000000       2.000000       9.200000  \n",
       "max    2.415841e+06     114.000000     200.000000     650.000000  "
      ]
     },
     "execution_count": 409,
     "metadata": {},
     "output_type": "execute_result"
    }
   ],
   "source": [
    "transact_df.describe()"
   ]
  },
  {
   "cell_type": "code",
   "execution_count": 410,
   "metadata": {
    "scrolled": true
   },
   "outputs": [
    {
     "data": {
      "text/plain": [
       "RETIREES                  14805\n",
       "OLDER SINGLES/COUPLES     14609\n",
       "YOUNG SINGLES/COUPLES     14441\n",
       "OLDER FAMILIES             9780\n",
       "YOUNG FAMILIES             9178\n",
       "MIDAGE SINGLES/COUPLES     7275\n",
       "NEW FAMILIES               2549\n",
       "Name: lifestage, dtype: int64"
      ]
     },
     "execution_count": 410,
     "metadata": {},
     "output_type": "execute_result"
    }
   ],
   "source": [
    "purchase_df.lifestage.value_counts()"
   ]
  },
  {
   "cell_type": "code",
   "execution_count": 411,
   "metadata": {},
   "outputs": [
    {
     "data": {
      "text/plain": [
       "Mainstream    29245\n",
       "Budget        24470\n",
       "Premium       18922\n",
       "Name: premium_customer, dtype: int64"
      ]
     },
     "execution_count": 411,
     "metadata": {},
     "output_type": "execute_result"
    }
   ],
   "source": [
    "purchase_df[\"premium_customer\"].value_counts()"
   ]
  },
  {
   "cell_type": "code",
   "execution_count": 412,
   "metadata": {
    "scrolled": false
   },
   "outputs": [
    {
     "data": {
      "text/plain": [
       "<bound method Series.unique of 0           1000\n",
       "1           1002\n",
       "2           1003\n",
       "3           1004\n",
       "4           1005\n",
       "          ...   \n",
       "72632    2370651\n",
       "72633    2370701\n",
       "72634    2370751\n",
       "72635    2370961\n",
       "72636    2373711\n",
       "Name: lylty_card_nbr, Length: 72637, dtype: int64>"
      ]
     },
     "execution_count": 412,
     "metadata": {},
     "output_type": "execute_result"
    }
   ],
   "source": [
    "purchase_df[\"lylty_card_nbr\"].unique"
   ]
  },
  {
   "cell_type": "code",
   "execution_count": 413,
   "metadata": {},
   "outputs": [
    {
     "data": {
      "text/plain": [
       "0    43390\n",
       "1    43599\n",
       "2    43605\n",
       "3    43329\n",
       "4    43330\n",
       "Name: date, dtype: int64"
      ]
     },
     "execution_count": 413,
     "metadata": {},
     "output_type": "execute_result"
    }
   ],
   "source": [
    "transact_df[\"date\"].head()"
   ]
  },
  {
   "cell_type": "markdown",
   "metadata": {},
   "source": [
    "Converting Excel Date to proper format"
   ]
  },
  {
   "cell_type": "code",
   "execution_count": 415,
   "metadata": {},
   "outputs": [
    {
     "data": {
      "text/plain": [
       "0         2018-10-17\n",
       "1         2019-05-14\n",
       "2         2019-05-20\n",
       "3         2018-08-17\n",
       "4         2018-08-18\n",
       "             ...    \n",
       "264831    2019-03-09\n",
       "264832    2018-08-13\n",
       "264833    2018-11-06\n",
       "264834    2018-12-27\n",
       "264835    2018-09-22\n",
       "Name: date, Length: 264836, dtype: object"
      ]
     },
     "execution_count": 415,
     "metadata": {},
     "output_type": "execute_result"
    }
   ],
   "source": [
    "import xlrd\n",
    "\n",
    "transact_df[\"date\"] = transact_df[\"date\"].apply(lambda x: xlrd.xldate_as_datetime(x, 0))\n",
    "transact_df[\"date\"] = transact_df[\"date\"].apply(lambda x: x.date())\n",
    "transact_df[\"date\"] = transact_df[\"date\"].apply(lambda x: x.isoformat())\n",
    "transact_df[\"date\"]"
   ]
  },
  {
   "cell_type": "code",
   "execution_count": 416,
   "metadata": {},
   "outputs": [
    {
     "data": {
      "text/plain": [
       "226    2022\n",
       "88     1873\n",
       "93     1832\n",
       "165    1819\n",
       "237    1785\n",
       "       ... \n",
       "11        2\n",
       "31        2\n",
       "206       2\n",
       "76        1\n",
       "92        1\n",
       "Name: store_nbr, Length: 272, dtype: int64"
      ]
     },
     "execution_count": 416,
     "metadata": {},
     "output_type": "execute_result"
    }
   ],
   "source": [
    "transact_df[\"store_nbr\"].value_counts()"
   ]
  },
  {
   "cell_type": "code",
   "execution_count": 417,
   "metadata": {},
   "outputs": [
    {
     "data": {
      "text/plain": [
       "index             False\n",
       "date              False\n",
       "store_nbr         False\n",
       "lylty_card_nbr    False\n",
       "txn_id            False\n",
       "prod_nbr          False\n",
       "prod_name         False\n",
       "prod_qty          False\n",
       "tot_sales         False\n",
       "dtype: bool"
      ]
     },
     "execution_count": 417,
     "metadata": {},
     "output_type": "execute_result"
    }
   ],
   "source": [
    "transact_df.isnull().any()"
   ]
  },
  {
   "cell_type": "code",
   "execution_count": 418,
   "metadata": {},
   "outputs": [
    {
     "data": {
      "text/plain": [
       "lylty_card_nbr      False\n",
       "lifestage           False\n",
       "premium_customer    False\n",
       "dtype: bool"
      ]
     },
     "execution_count": 418,
     "metadata": {},
     "output_type": "execute_result"
    }
   ],
   "source": [
    "purchase_df.isnull().any()"
   ]
  },
  {
   "cell_type": "code",
   "execution_count": 420,
   "metadata": {},
   "outputs": [
    {
     "data": {
      "text/plain": [
       "Kettle Mozzarella   Basil & Pesto 175g      3304\n",
       "Kettle Tortilla ChpsHny&Jlpno Chili 150g    3296\n",
       "Cobs Popd Swt/Chlli &Sr/Cream Chips 110g    3269\n",
       "Tyrrells Crisps     Ched & Chives 165g      3268\n",
       "Cobs Popd Sea Salt  Chips 110g              3265\n",
       "                                            ... \n",
       "RRD Pc Sea Salt     165g                    1431\n",
       "Woolworths Medium   Salsa 300g              1430\n",
       "NCC Sour Cream &    Garden Chives 175g      1419\n",
       "French Fries Potato Chips 175g              1418\n",
       "WW Crinkle Cut      Original 175g           1410\n",
       "Name: prod_name, Length: 114, dtype: int64"
      ]
     },
     "execution_count": 420,
     "metadata": {},
     "output_type": "execute_result"
    }
   ],
   "source": [
    "transact_df[\"prod_name\"].value_counts()"
   ]
  },
  {
   "cell_type": "code",
   "execution_count": 421,
   "metadata": {},
   "outputs": [],
   "source": [
    "transact_df[\"chip_name\"] = transact_df[\"prod_name\"].replace(r'[^a-zA-Z ]|g$', '', regex=True)\n",
    "transact_df[\"chip_name\"].replace(r'\\s+', \" \", regex=True, inplace=True)\n",
    "transact_df[\"chip_name\"] = transact_df[\"chip_name\"].str.strip()"
   ]
  },
  {
   "cell_type": "code",
   "execution_count": 423,
   "metadata": {},
   "outputs": [
    {
     "data": {
      "text/plain": [
       "Kettle Mozzarella Basil Pesto         3304\n",
       "Kettle Tortilla ChpsHnyJlpno Chili    3296\n",
       "Cobs Popd SwtChlli SrCream Chips      3269\n",
       "Tyrrells Crisps Ched Chives           3268\n",
       "Cobs Popd Sea Salt Chips              3265\n",
       "                                      ... \n",
       "RRD Pc Sea Salt                       1431\n",
       "Woolworths Medium Salsa               1430\n",
       "NCC Sour Cream Garden Chives          1419\n",
       "French Fries Potato Chips             1418\n",
       "WW Crinkle Cut Original               1410\n",
       "Name: chip_name, Length: 114, dtype: int64"
      ]
     },
     "execution_count": 423,
     "metadata": {},
     "output_type": "execute_result"
    }
   ],
   "source": [
    "transact_df[\"chip_name\"].value_counts()"
   ]
  },
  {
   "cell_type": "code",
   "execution_count": 425,
   "metadata": {},
   "outputs": [],
   "source": [
    "trans_df_clean = transact_df.drop(transact_df.loc[transact_df[\"prod_name\"].str.contains(\"Salsa\") == True].index)"
   ]
  },
  {
   "cell_type": "markdown",
   "metadata": {},
   "source": [
    "Outlier of 200 chips"
   ]
  },
  {
   "cell_type": "code",
   "execution_count": 427,
   "metadata": {},
   "outputs": [
    {
     "data": {
      "text/html": [
       "<div>\n",
       "<style scoped>\n",
       "    .dataframe tbody tr th:only-of-type {\n",
       "        vertical-align: middle;\n",
       "    }\n",
       "\n",
       "    .dataframe tbody tr th {\n",
       "        vertical-align: top;\n",
       "    }\n",
       "\n",
       "    .dataframe thead th {\n",
       "        text-align: right;\n",
       "    }\n",
       "</style>\n",
       "<table border=\"1\" class=\"dataframe\">\n",
       "  <thead>\n",
       "    <tr style=\"text-align: right;\">\n",
       "      <th></th>\n",
       "      <th>index</th>\n",
       "      <th>date</th>\n",
       "      <th>store_nbr</th>\n",
       "      <th>lylty_card_nbr</th>\n",
       "      <th>txn_id</th>\n",
       "      <th>prod_nbr</th>\n",
       "      <th>prod_name</th>\n",
       "      <th>prod_qty</th>\n",
       "      <th>tot_sales</th>\n",
       "      <th>chip_name</th>\n",
       "    </tr>\n",
       "  </thead>\n",
       "  <tbody>\n",
       "    <tr>\n",
       "      <th>69762</th>\n",
       "      <td>69762</td>\n",
       "      <td>2018-08-19</td>\n",
       "      <td>226</td>\n",
       "      <td>226000</td>\n",
       "      <td>226201</td>\n",
       "      <td>4</td>\n",
       "      <td>Dorito Corn Chp     Supreme 380g</td>\n",
       "      <td>200</td>\n",
       "      <td>650.0</td>\n",
       "      <td>Dorito Corn Chp Supreme</td>\n",
       "    </tr>\n",
       "    <tr>\n",
       "      <th>69763</th>\n",
       "      <td>69763</td>\n",
       "      <td>2019-05-20</td>\n",
       "      <td>226</td>\n",
       "      <td>226000</td>\n",
       "      <td>226210</td>\n",
       "      <td>4</td>\n",
       "      <td>Dorito Corn Chp     Supreme 380g</td>\n",
       "      <td>200</td>\n",
       "      <td>650.0</td>\n",
       "      <td>Dorito Corn Chp Supreme</td>\n",
       "    </tr>\n",
       "  </tbody>\n",
       "</table>\n",
       "</div>"
      ],
      "text/plain": [
       "       index        date  store_nbr  lylty_card_nbr  txn_id  prod_nbr  \\\n",
       "69762  69762  2018-08-19        226          226000  226201         4   \n",
       "69763  69763  2019-05-20        226          226000  226210         4   \n",
       "\n",
       "                              prod_name  prod_qty  tot_sales  \\\n",
       "69762  Dorito Corn Chp     Supreme 380g       200      650.0   \n",
       "69763  Dorito Corn Chp     Supreme 380g       200      650.0   \n",
       "\n",
       "                     chip_name  \n",
       "69762  Dorito Corn Chp Supreme  \n",
       "69763  Dorito Corn Chp Supreme  "
      ]
     },
     "execution_count": 427,
     "metadata": {},
     "output_type": "execute_result"
    }
   ],
   "source": [
    "trans_df_clean[trans_df_clean[\"prod_qty\"] == 200]"
   ]
  },
  {
   "cell_type": "code",
   "execution_count": 428,
   "metadata": {},
   "outputs": [
    {
     "data": {
      "text/html": [
       "<div>\n",
       "<style scoped>\n",
       "    .dataframe tbody tr th:only-of-type {\n",
       "        vertical-align: middle;\n",
       "    }\n",
       "\n",
       "    .dataframe tbody tr th {\n",
       "        vertical-align: top;\n",
       "    }\n",
       "\n",
       "    .dataframe thead th {\n",
       "        text-align: right;\n",
       "    }\n",
       "</style>\n",
       "<table border=\"1\" class=\"dataframe\">\n",
       "  <thead>\n",
       "    <tr style=\"text-align: right;\">\n",
       "      <th></th>\n",
       "      <th>index</th>\n",
       "      <th>date</th>\n",
       "      <th>store_nbr</th>\n",
       "      <th>lylty_card_nbr</th>\n",
       "      <th>txn_id</th>\n",
       "      <th>prod_nbr</th>\n",
       "      <th>prod_name</th>\n",
       "      <th>prod_qty</th>\n",
       "      <th>tot_sales</th>\n",
       "      <th>chip_name</th>\n",
       "    </tr>\n",
       "  </thead>\n",
       "  <tbody>\n",
       "    <tr>\n",
       "      <th>69762</th>\n",
       "      <td>69762</td>\n",
       "      <td>2018-08-19</td>\n",
       "      <td>226</td>\n",
       "      <td>226000</td>\n",
       "      <td>226201</td>\n",
       "      <td>4</td>\n",
       "      <td>Dorito Corn Chp     Supreme 380g</td>\n",
       "      <td>200</td>\n",
       "      <td>650.0</td>\n",
       "      <td>Dorito Corn Chp Supreme</td>\n",
       "    </tr>\n",
       "    <tr>\n",
       "      <th>69763</th>\n",
       "      <td>69763</td>\n",
       "      <td>2019-05-20</td>\n",
       "      <td>226</td>\n",
       "      <td>226000</td>\n",
       "      <td>226210</td>\n",
       "      <td>4</td>\n",
       "      <td>Dorito Corn Chp     Supreme 380g</td>\n",
       "      <td>200</td>\n",
       "      <td>650.0</td>\n",
       "      <td>Dorito Corn Chp Supreme</td>\n",
       "    </tr>\n",
       "  </tbody>\n",
       "</table>\n",
       "</div>"
      ],
      "text/plain": [
       "       index        date  store_nbr  lylty_card_nbr  txn_id  prod_nbr  \\\n",
       "69762  69762  2018-08-19        226          226000  226201         4   \n",
       "69763  69763  2019-05-20        226          226000  226210         4   \n",
       "\n",
       "                              prod_name  prod_qty  tot_sales  \\\n",
       "69762  Dorito Corn Chp     Supreme 380g       200      650.0   \n",
       "69763  Dorito Corn Chp     Supreme 380g       200      650.0   \n",
       "\n",
       "                     chip_name  \n",
       "69762  Dorito Corn Chp Supreme  \n",
       "69763  Dorito Corn Chp Supreme  "
      ]
     },
     "execution_count": 428,
     "metadata": {},
     "output_type": "execute_result"
    }
   ],
   "source": [
    "trans_df_clean[trans_df_clean[\"lylty_card_nbr\"] == 226000]"
   ]
  },
  {
   "cell_type": "markdown",
   "metadata": {},
   "source": [
    "Only have two purchases, and both of 200 chips. Since we want to look at retail customers, we can drop this."
   ]
  },
  {
   "cell_type": "code",
   "execution_count": 429,
   "metadata": {},
   "outputs": [],
   "source": [
    "trans_df_clean.drop(trans_df_clean[trans_df_clean[\"lylty_card_nbr\"] == 226000].index, inplace=True)"
   ]
  },
  {
   "cell_type": "code",
   "execution_count": 430,
   "metadata": {},
   "outputs": [
    {
     "data": {
      "text/html": [
       "<div>\n",
       "<style scoped>\n",
       "    .dataframe tbody tr th:only-of-type {\n",
       "        vertical-align: middle;\n",
       "    }\n",
       "\n",
       "    .dataframe tbody tr th {\n",
       "        vertical-align: top;\n",
       "    }\n",
       "\n",
       "    .dataframe thead th {\n",
       "        text-align: right;\n",
       "    }\n",
       "</style>\n",
       "<table border=\"1\" class=\"dataframe\">\n",
       "  <thead>\n",
       "    <tr style=\"text-align: right;\">\n",
       "      <th></th>\n",
       "      <th>index</th>\n",
       "      <th>store_nbr</th>\n",
       "      <th>lylty_card_nbr</th>\n",
       "      <th>txn_id</th>\n",
       "      <th>prod_nbr</th>\n",
       "      <th>prod_qty</th>\n",
       "      <th>tot_sales</th>\n",
       "    </tr>\n",
       "  </thead>\n",
       "  <tbody>\n",
       "    <tr>\n",
       "      <th>count</th>\n",
       "      <td>246740.000000</td>\n",
       "      <td>246740.000000</td>\n",
       "      <td>2.467400e+05</td>\n",
       "      <td>2.467400e+05</td>\n",
       "      <td>246740.000000</td>\n",
       "      <td>246740.000000</td>\n",
       "      <td>246740.000000</td>\n",
       "    </tr>\n",
       "    <tr>\n",
       "      <th>mean</th>\n",
       "      <td>132435.834745</td>\n",
       "      <td>135.050361</td>\n",
       "      <td>1.355303e+05</td>\n",
       "      <td>1.351304e+05</td>\n",
       "      <td>56.352213</td>\n",
       "      <td>1.906456</td>\n",
       "      <td>7.316113</td>\n",
       "    </tr>\n",
       "    <tr>\n",
       "      <th>std</th>\n",
       "      <td>76465.694879</td>\n",
       "      <td>76.786971</td>\n",
       "      <td>8.071520e+04</td>\n",
       "      <td>7.814760e+04</td>\n",
       "      <td>33.695235</td>\n",
       "      <td>0.342499</td>\n",
       "      <td>2.474897</td>\n",
       "    </tr>\n",
       "    <tr>\n",
       "      <th>min</th>\n",
       "      <td>0.000000</td>\n",
       "      <td>1.000000</td>\n",
       "      <td>1.000000e+03</td>\n",
       "      <td>1.000000e+00</td>\n",
       "      <td>1.000000</td>\n",
       "      <td>1.000000</td>\n",
       "      <td>1.700000</td>\n",
       "    </tr>\n",
       "    <tr>\n",
       "      <th>25%</th>\n",
       "      <td>66268.750000</td>\n",
       "      <td>70.000000</td>\n",
       "      <td>7.001500e+04</td>\n",
       "      <td>6.756875e+04</td>\n",
       "      <td>26.000000</td>\n",
       "      <td>2.000000</td>\n",
       "      <td>5.800000</td>\n",
       "    </tr>\n",
       "    <tr>\n",
       "      <th>50%</th>\n",
       "      <td>132445.500000</td>\n",
       "      <td>130.000000</td>\n",
       "      <td>1.303670e+05</td>\n",
       "      <td>1.351815e+05</td>\n",
       "      <td>53.000000</td>\n",
       "      <td>2.000000</td>\n",
       "      <td>7.400000</td>\n",
       "    </tr>\n",
       "    <tr>\n",
       "      <th>75%</th>\n",
       "      <td>198627.250000</td>\n",
       "      <td>203.000000</td>\n",
       "      <td>2.030832e+05</td>\n",
       "      <td>2.026522e+05</td>\n",
       "      <td>87.000000</td>\n",
       "      <td>2.000000</td>\n",
       "      <td>8.800000</td>\n",
       "    </tr>\n",
       "    <tr>\n",
       "      <th>max</th>\n",
       "      <td>264835.000000</td>\n",
       "      <td>272.000000</td>\n",
       "      <td>2.373711e+06</td>\n",
       "      <td>2.415841e+06</td>\n",
       "      <td>114.000000</td>\n",
       "      <td>5.000000</td>\n",
       "      <td>29.500000</td>\n",
       "    </tr>\n",
       "  </tbody>\n",
       "</table>\n",
       "</div>"
      ],
      "text/plain": [
       "               index      store_nbr  lylty_card_nbr        txn_id  \\\n",
       "count  246740.000000  246740.000000    2.467400e+05  2.467400e+05   \n",
       "mean   132435.834745     135.050361    1.355303e+05  1.351304e+05   \n",
       "std     76465.694879      76.786971    8.071520e+04  7.814760e+04   \n",
       "min         0.000000       1.000000    1.000000e+03  1.000000e+00   \n",
       "25%     66268.750000      70.000000    7.001500e+04  6.756875e+04   \n",
       "50%    132445.500000     130.000000    1.303670e+05  1.351815e+05   \n",
       "75%    198627.250000     203.000000    2.030832e+05  2.026522e+05   \n",
       "max    264835.000000     272.000000    2.373711e+06  2.415841e+06   \n",
       "\n",
       "            prod_nbr       prod_qty      tot_sales  \n",
       "count  246740.000000  246740.000000  246740.000000  \n",
       "mean       56.352213       1.906456       7.316113  \n",
       "std        33.695235       0.342499       2.474897  \n",
       "min         1.000000       1.000000       1.700000  \n",
       "25%        26.000000       2.000000       5.800000  \n",
       "50%        53.000000       2.000000       7.400000  \n",
       "75%        87.000000       2.000000       8.800000  \n",
       "max       114.000000       5.000000      29.500000  "
      ]
     },
     "execution_count": 430,
     "metadata": {},
     "output_type": "execute_result"
    }
   ],
   "source": [
    "trans_df_clean.describe()"
   ]
  },
  {
   "cell_type": "code",
   "execution_count": 432,
   "metadata": {},
   "outputs": [
    {
     "data": {
      "text/plain": [
       "2019-06-13    607\n",
       "2018-09-22    609\n",
       "2018-11-25    610\n",
       "2018-10-18    611\n",
       "2019-06-24    612\n",
       "             ... \n",
       "2018-12-20    808\n",
       "2018-12-19    839\n",
       "2018-12-22    840\n",
       "2018-12-23    853\n",
       "2018-12-24    865\n",
       "Name: date, Length: 364, dtype: int64"
      ]
     },
     "execution_count": 432,
     "metadata": {},
     "output_type": "execute_result"
    }
   ],
   "source": [
    "trans_df_clean.date.value_counts().sort_values()"
   ]
  },
  {
   "cell_type": "markdown",
   "metadata": {},
   "source": [
    "We see that we are missing a day of data - and it looks like it is Christmas day. Since shops are not usually open, we can assume that there are no sales."
   ]
  },
  {
   "cell_type": "code",
   "execution_count": 433,
   "metadata": {},
   "outputs": [],
   "source": [
    "trans_df_clean[\"chip_size\"] = trans_df_clean[\"prod_name\"].str.extract(pat = '(\\d+)').astype('int')"
   ]
  },
  {
   "cell_type": "code",
   "execution_count": 434,
   "metadata": {},
   "outputs": [
    {
     "data": {
      "text/html": [
       "<div>\n",
       "<style scoped>\n",
       "    .dataframe tbody tr th:only-of-type {\n",
       "        vertical-align: middle;\n",
       "    }\n",
       "\n",
       "    .dataframe tbody tr th {\n",
       "        vertical-align: top;\n",
       "    }\n",
       "\n",
       "    .dataframe thead th {\n",
       "        text-align: right;\n",
       "    }\n",
       "</style>\n",
       "<table border=\"1\" class=\"dataframe\">\n",
       "  <thead>\n",
       "    <tr style=\"text-align: right;\">\n",
       "      <th></th>\n",
       "      <th>index</th>\n",
       "      <th>store_nbr</th>\n",
       "      <th>lylty_card_nbr</th>\n",
       "      <th>txn_id</th>\n",
       "      <th>prod_nbr</th>\n",
       "      <th>prod_qty</th>\n",
       "      <th>tot_sales</th>\n",
       "      <th>chip_size</th>\n",
       "    </tr>\n",
       "  </thead>\n",
       "  <tbody>\n",
       "    <tr>\n",
       "      <th>count</th>\n",
       "      <td>246740.000000</td>\n",
       "      <td>246740.000000</td>\n",
       "      <td>2.467400e+05</td>\n",
       "      <td>2.467400e+05</td>\n",
       "      <td>246740.000000</td>\n",
       "      <td>246740.000000</td>\n",
       "      <td>246740.000000</td>\n",
       "      <td>246740.000000</td>\n",
       "    </tr>\n",
       "    <tr>\n",
       "      <th>mean</th>\n",
       "      <td>132435.834745</td>\n",
       "      <td>135.050361</td>\n",
       "      <td>1.355303e+05</td>\n",
       "      <td>1.351304e+05</td>\n",
       "      <td>56.352213</td>\n",
       "      <td>1.906456</td>\n",
       "      <td>7.316113</td>\n",
       "      <td>175.583521</td>\n",
       "    </tr>\n",
       "    <tr>\n",
       "      <th>std</th>\n",
       "      <td>76465.694879</td>\n",
       "      <td>76.786971</td>\n",
       "      <td>8.071520e+04</td>\n",
       "      <td>7.814760e+04</td>\n",
       "      <td>33.695235</td>\n",
       "      <td>0.342499</td>\n",
       "      <td>2.474897</td>\n",
       "      <td>59.432118</td>\n",
       "    </tr>\n",
       "    <tr>\n",
       "      <th>min</th>\n",
       "      <td>0.000000</td>\n",
       "      <td>1.000000</td>\n",
       "      <td>1.000000e+03</td>\n",
       "      <td>1.000000e+00</td>\n",
       "      <td>1.000000</td>\n",
       "      <td>1.000000</td>\n",
       "      <td>1.700000</td>\n",
       "      <td>70.000000</td>\n",
       "    </tr>\n",
       "    <tr>\n",
       "      <th>25%</th>\n",
       "      <td>66268.750000</td>\n",
       "      <td>70.000000</td>\n",
       "      <td>7.001500e+04</td>\n",
       "      <td>6.756875e+04</td>\n",
       "      <td>26.000000</td>\n",
       "      <td>2.000000</td>\n",
       "      <td>5.800000</td>\n",
       "      <td>150.000000</td>\n",
       "    </tr>\n",
       "    <tr>\n",
       "      <th>50%</th>\n",
       "      <td>132445.500000</td>\n",
       "      <td>130.000000</td>\n",
       "      <td>1.303670e+05</td>\n",
       "      <td>1.351815e+05</td>\n",
       "      <td>53.000000</td>\n",
       "      <td>2.000000</td>\n",
       "      <td>7.400000</td>\n",
       "      <td>170.000000</td>\n",
       "    </tr>\n",
       "    <tr>\n",
       "      <th>75%</th>\n",
       "      <td>198627.250000</td>\n",
       "      <td>203.000000</td>\n",
       "      <td>2.030832e+05</td>\n",
       "      <td>2.026522e+05</td>\n",
       "      <td>87.000000</td>\n",
       "      <td>2.000000</td>\n",
       "      <td>8.800000</td>\n",
       "      <td>175.000000</td>\n",
       "    </tr>\n",
       "    <tr>\n",
       "      <th>max</th>\n",
       "      <td>264835.000000</td>\n",
       "      <td>272.000000</td>\n",
       "      <td>2.373711e+06</td>\n",
       "      <td>2.415841e+06</td>\n",
       "      <td>114.000000</td>\n",
       "      <td>5.000000</td>\n",
       "      <td>29.500000</td>\n",
       "      <td>380.000000</td>\n",
       "    </tr>\n",
       "  </tbody>\n",
       "</table>\n",
       "</div>"
      ],
      "text/plain": [
       "               index      store_nbr  lylty_card_nbr        txn_id  \\\n",
       "count  246740.000000  246740.000000    2.467400e+05  2.467400e+05   \n",
       "mean   132435.834745     135.050361    1.355303e+05  1.351304e+05   \n",
       "std     76465.694879      76.786971    8.071520e+04  7.814760e+04   \n",
       "min         0.000000       1.000000    1.000000e+03  1.000000e+00   \n",
       "25%     66268.750000      70.000000    7.001500e+04  6.756875e+04   \n",
       "50%    132445.500000     130.000000    1.303670e+05  1.351815e+05   \n",
       "75%    198627.250000     203.000000    2.030832e+05  2.026522e+05   \n",
       "max    264835.000000     272.000000    2.373711e+06  2.415841e+06   \n",
       "\n",
       "            prod_nbr       prod_qty      tot_sales      chip_size  \n",
       "count  246740.000000  246740.000000  246740.000000  246740.000000  \n",
       "mean       56.352213       1.906456       7.316113     175.583521  \n",
       "std        33.695235       0.342499       2.474897      59.432118  \n",
       "min         1.000000       1.000000       1.700000      70.000000  \n",
       "25%        26.000000       2.000000       5.800000     150.000000  \n",
       "50%        53.000000       2.000000       7.400000     170.000000  \n",
       "75%        87.000000       2.000000       8.800000     175.000000  \n",
       "max       114.000000       5.000000      29.500000     380.000000  "
      ]
     },
     "execution_count": 434,
     "metadata": {},
     "output_type": "execute_result"
    }
   ],
   "source": [
    "trans_df_clean.describe()"
   ]
  },
  {
   "cell_type": "code",
   "execution_count": 435,
   "metadata": {},
   "outputs": [],
   "source": [
    "trans_df_clean[\"brand\"] = trans_df_clean[\"chip_name\"].apply(lambda x: x.split(\" \")[0])"
   ]
  },
  {
   "cell_type": "code",
   "execution_count": 436,
   "metadata": {},
   "outputs": [
    {
     "data": {
      "text/plain": [
       "Kettle        41288\n",
       "Smiths        27390\n",
       "Pringles      25102\n",
       "Doritos       22041\n",
       "Thins         14075\n",
       "RRD           11894\n",
       "Infuzions     11057\n",
       "WW            10320\n",
       "Cobs           9693\n",
       "Tostitos       9471\n",
       "Twisties       9454\n",
       "Tyrrells       6442\n",
       "Grain          6272\n",
       "Natural        6050\n",
       "Cheezels       4603\n",
       "CCs            4551\n",
       "Red            4427\n",
       "Dorito         3183\n",
       "Infzns         3144\n",
       "Smith          2963\n",
       "Cheetos        2927\n",
       "Snbts          1576\n",
       "Burger         1564\n",
       "Woolworths     1516\n",
       "GrnWves        1468\n",
       "Sunbites       1432\n",
       "NCC            1419\n",
       "French         1418\n",
       "Name: brand, dtype: int64"
      ]
     },
     "execution_count": 436,
     "metadata": {},
     "output_type": "execute_result"
    }
   ],
   "source": [
    "trans_df_clean[\"brand\"].value_counts()"
   ]
  },
  {
   "cell_type": "code",
   "execution_count": 437,
   "metadata": {},
   "outputs": [],
   "source": [
    "trans_df_clean[\"brand\"] = trans_df_clean[\"brand\"].str.replace(\"WW\", \"Woolworths\")\n",
    "trans_df_clean[\"brand\"] = trans_df_clean[\"brand\"].str.replace(\"Red\", \"RRD\")\n",
    "trans_df_clean[\"brand\"] = trans_df_clean[\"brand\"].str.replace(\"Infzns\", \"Infuzions\")\n",
    "trans_df_clean[\"brand\"] = trans_df_clean[\"brand\"].str.replace(r\"Grain$\", \"GrainWaves\", regex=True)\n",
    "trans_df_clean[\"brand\"] = trans_df_clean[\"brand\"].str.replace(\"GrnWves\", \"GrainWaves\")\n",
    "trans_df_clean[\"brand\"] = trans_df_clean[\"brand\"].str.replace(r\"Dorito$\", \"Doritos\", regex=True)\n",
    "trans_df_clean[\"brand\"] = trans_df_clean[\"brand\"].str.replace(\"Snbts\", \"Sunbites\")\n",
    "trans_df_clean[\"brand\"] = trans_df_clean[\"brand\"].str.replace(\"Natural\", \"NCC\")\n",
    "trans_df_clean[\"brand\"] = trans_df_clean[\"brand\"].str.replace(r\"Smith$\", \"Smiths\", regex=True)"
   ]
  },
  {
   "cell_type": "code",
   "execution_count": 439,
   "metadata": {},
   "outputs": [
    {
     "data": {
      "text/plain": [
       "Kettle        41288\n",
       "Smiths        30353\n",
       "Doritos       25224\n",
       "Pringles      25102\n",
       "RRD           16321\n",
       "Infuzions     14201\n",
       "Thins         14075\n",
       "Woolworths    11836\n",
       "Cobs           9693\n",
       "Tostitos       9471\n",
       "Twisties       9454\n",
       "GrainWaves     7740\n",
       "NCC            7469\n",
       "Tyrrells       6442\n",
       "Cheezels       4603\n",
       "CCs            4551\n",
       "Sunbites       3008\n",
       "Cheetos        2927\n",
       "Burger         1564\n",
       "French         1418\n",
       "Name: brand, dtype: int64"
      ]
     },
     "execution_count": 439,
     "metadata": {},
     "output_type": "execute_result"
    }
   ],
   "source": [
    "trans_df_clean[\"brand\"].value_counts()"
   ]
  },
  {
   "cell_type": "markdown",
   "metadata": {},
   "source": [
    "### We have now completed data cleaning and some creations of categories"
   ]
  },
  {
   "cell_type": "code",
   "execution_count": 440,
   "metadata": {},
   "outputs": [],
   "source": [
    "combined_df = trans_df_clean.merge(purchase_df, how='left', on=\"lylty_card_nbr\")"
   ]
  },
  {
   "cell_type": "code",
   "execution_count": null,
   "metadata": {},
   "outputs": [],
   "source": [
    "combined_df.to_csv(\"analysis.csv\")"
   ]
  },
  {
   "cell_type": "code",
   "execution_count": 441,
   "metadata": {
    "scrolled": true
   },
   "outputs": [
    {
     "data": {
      "text/plain": [
       "index               False\n",
       "date                False\n",
       "store_nbr           False\n",
       "lylty_card_nbr      False\n",
       "txn_id              False\n",
       "prod_nbr            False\n",
       "prod_name           False\n",
       "prod_qty            False\n",
       "tot_sales           False\n",
       "chip_name           False\n",
       "chip_size           False\n",
       "brand               False\n",
       "lifestage           False\n",
       "premium_customer    False\n",
       "dtype: bool"
      ]
     },
     "execution_count": 441,
     "metadata": {},
     "output_type": "execute_result"
    }
   ],
   "source": [
    "combined_df.isnull().any()"
   ]
  },
  {
   "cell_type": "code",
   "execution_count": 451,
   "metadata": {},
   "outputs": [
    {
     "data": {
      "text/plain": [
       "index                 int64\n",
       "date                 object\n",
       "store_nbr             int64\n",
       "lylty_card_nbr        int64\n",
       "txn_id                int64\n",
       "prod_nbr              int64\n",
       "prod_name            object\n",
       "prod_qty              int64\n",
       "tot_sales           float64\n",
       "chip_name            object\n",
       "chip_size             int64\n",
       "brand                object\n",
       "lifestage            object\n",
       "premium_customer     object\n",
       "price               float64\n",
       "dtype: object"
      ]
     },
     "execution_count": 451,
     "metadata": {},
     "output_type": "execute_result"
    }
   ],
   "source": [
    "combined_df.dtypes"
   ]
  },
  {
   "cell_type": "code",
   "execution_count": 442,
   "metadata": {},
   "outputs": [],
   "source": [
    "import scipy\n",
    "from scipy.stats import ttest_ind"
   ]
  },
  {
   "cell_type": "code",
   "execution_count": 452,
   "metadata": {},
   "outputs": [
    {
     "data": {
      "text/plain": [
       "0         3.00\n",
       "1         2.10\n",
       "2         1.45\n",
       "3         3.00\n",
       "4         4.60\n",
       "          ... \n",
       "246735    5.40\n",
       "246736    4.40\n",
       "246737    4.40\n",
       "246738    3.90\n",
       "246739    4.40\n",
       "Name: price, Length: 246740, dtype: float64"
      ]
     },
     "execution_count": 452,
     "metadata": {},
     "output_type": "execute_result"
    }
   ],
   "source": [
    "combined_df['price'] = combined_df['tot_sales']/combined_df['prod_qty']\n",
    "combined_df['price']"
   ]
  },
  {
   "cell_type": "code",
   "execution_count": 575,
   "metadata": {},
   "outputs": [
    {
     "data": {
      "text/plain": [
       "Ttest_indResult(statistic=16.864135225719995, pvalue=1.9622867289480684e-63)"
      ]
     },
     "execution_count": 575,
     "metadata": {},
     "output_type": "execute_result"
    }
   ],
   "source": [
    "mainstream_midage = combined_df[(combined_df['lifestage'] == 'MIDAGE SINGLES/COUPLES') & ((combined_df['premium_customer'] == 'Mainstream'))]\n",
    "other = combined_df[(combined_df['lifestage'] == 'MIDAGE SINGLES/COUPLES') & (combined_df['premium_customer'] != 'Mainstream')]\n",
    "\n",
    "ttest_ind(mainstream_midage['price'], other['price'], equal_var=False)"
   ]
  },
  {
   "cell_type": "code",
   "execution_count": 576,
   "metadata": {},
   "outputs": [],
   "source": [
    "segment = combined_df[(combined_df['lifestage'] == 'MIDAGE SINGLES/COUPLES') & (combined_df['premium_customer'] == 'Mainstream')]\n",
    "other = combined_df[(combined_df['lifestage'] != 'MIDAGE SINGLES/COUPLES') & (combined_df['premium_customer'] != 'Mainstream')]"
   ]
  },
  {
   "cell_type": "code",
   "execution_count": 577,
   "metadata": {},
   "outputs": [],
   "source": [
    "num_chips_segment = sum(segment['prod_qty'])\n",
    "num_chips_other = sum(other['prod_qty'])"
   ]
  },
  {
   "cell_type": "code",
   "execution_count": 578,
   "metadata": {},
   "outputs": [],
   "source": [
    "segment_num_chips_by_brand = pd.DataFrame(segment.groupby('brand').sum('prod_qty')['prod_qty']).reset_index()\n",
    "other_num_chips_by_brand = pd.DataFrame(other.groupby('brand').sum('prod_qty')['prod_qty']).reset_index()"
   ]
  },
  {
   "cell_type": "code",
   "execution_count": 579,
   "metadata": {},
   "outputs": [],
   "source": [
    "segment_num_chips_by_brand['target_segment'] = segment_num_chips_by_brand['prod_qty'] / num_chips_segment\n",
    "other_num_chips_by_brand['other'] = other_num_chips_by_brand['prod_qty'] / num_chips_other\n",
    "\n",
    "brand_prop = segment_num_chips_by_brand.merge(other_num_chips_by_brand, on='brand')\n",
    "brand_prop.drop(columns=['prod_qty_x', 'prod_qty_y'], inplace=True)"
   ]
  },
  {
   "cell_type": "code",
   "execution_count": 580,
   "metadata": {},
   "outputs": [
    {
     "data": {
      "text/html": [
       "<div>\n",
       "<style scoped>\n",
       "    .dataframe tbody tr th:only-of-type {\n",
       "        vertical-align: middle;\n",
       "    }\n",
       "\n",
       "    .dataframe tbody tr th {\n",
       "        vertical-align: top;\n",
       "    }\n",
       "\n",
       "    .dataframe thead th {\n",
       "        text-align: right;\n",
       "    }\n",
       "</style>\n",
       "<table border=\"1\" class=\"dataframe\">\n",
       "  <thead>\n",
       "    <tr style=\"text-align: right;\">\n",
       "      <th></th>\n",
       "      <th>brand</th>\n",
       "      <th>target_segment</th>\n",
       "      <th>other</th>\n",
       "      <th>brand_affinity</th>\n",
       "    </tr>\n",
       "  </thead>\n",
       "  <tbody>\n",
       "    <tr>\n",
       "      <th>0</th>\n",
       "      <td>Cobs</td>\n",
       "      <td>0.044831</td>\n",
       "      <td>0.038361</td>\n",
       "      <td>1.168651</td>\n",
       "    </tr>\n",
       "    <tr>\n",
       "      <th>1</th>\n",
       "      <td>Kettle</td>\n",
       "      <td>0.192571</td>\n",
       "      <td>0.165381</td>\n",
       "      <td>1.164404</td>\n",
       "    </tr>\n",
       "    <tr>\n",
       "      <th>2</th>\n",
       "      <td>Twisties</td>\n",
       "      <td>0.043935</td>\n",
       "      <td>0.037806</td>\n",
       "      <td>1.162137</td>\n",
       "    </tr>\n",
       "    <tr>\n",
       "      <th>3</th>\n",
       "      <td>Tostitos</td>\n",
       "      <td>0.043558</td>\n",
       "      <td>0.038117</td>\n",
       "      <td>1.142742</td>\n",
       "    </tr>\n",
       "    <tr>\n",
       "      <th>4</th>\n",
       "      <td>Doritos</td>\n",
       "      <td>0.108895</td>\n",
       "      <td>0.100242</td>\n",
       "      <td>1.086328</td>\n",
       "    </tr>\n",
       "    <tr>\n",
       "      <th>5</th>\n",
       "      <td>Infuzions</td>\n",
       "      <td>0.061755</td>\n",
       "      <td>0.056921</td>\n",
       "      <td>1.084925</td>\n",
       "    </tr>\n",
       "    <tr>\n",
       "      <th>6</th>\n",
       "      <td>Tyrrells</td>\n",
       "      <td>0.026917</td>\n",
       "      <td>0.025577</td>\n",
       "      <td>1.052420</td>\n",
       "    </tr>\n",
       "    <tr>\n",
       "      <th>7</th>\n",
       "      <td>Cheezels</td>\n",
       "      <td>0.019846</td>\n",
       "      <td>0.018927</td>\n",
       "      <td>1.048560</td>\n",
       "    </tr>\n",
       "    <tr>\n",
       "      <th>8</th>\n",
       "      <td>Pringles</td>\n",
       "      <td>0.104181</td>\n",
       "      <td>0.100647</td>\n",
       "      <td>1.035114</td>\n",
       "    </tr>\n",
       "    <tr>\n",
       "      <th>9</th>\n",
       "      <td>GrainWaves</td>\n",
       "      <td>0.031962</td>\n",
       "      <td>0.030965</td>\n",
       "      <td>1.032194</td>\n",
       "    </tr>\n",
       "    <tr>\n",
       "      <th>10</th>\n",
       "      <td>Thins</td>\n",
       "      <td>0.057182</td>\n",
       "      <td>0.057198</td>\n",
       "      <td>0.999711</td>\n",
       "    </tr>\n",
       "    <tr>\n",
       "      <th>11</th>\n",
       "      <td>Smiths</td>\n",
       "      <td>0.115165</td>\n",
       "      <td>0.125327</td>\n",
       "      <td>0.918920</td>\n",
       "    </tr>\n",
       "    <tr>\n",
       "      <th>12</th>\n",
       "      <td>Cheetos</td>\n",
       "      <td>0.010135</td>\n",
       "      <td>0.011899</td>\n",
       "      <td>0.851812</td>\n",
       "    </tr>\n",
       "    <tr>\n",
       "      <th>13</th>\n",
       "      <td>RRD</td>\n",
       "      <td>0.054259</td>\n",
       "      <td>0.067839</td>\n",
       "      <td>0.799821</td>\n",
       "    </tr>\n",
       "    <tr>\n",
       "      <th>14</th>\n",
       "      <td>NCC</td>\n",
       "      <td>0.024655</td>\n",
       "      <td>0.031171</td>\n",
       "      <td>0.790946</td>\n",
       "    </tr>\n",
       "    <tr>\n",
       "      <th>15</th>\n",
       "      <td>CCs</td>\n",
       "      <td>0.014425</td>\n",
       "      <td>0.018766</td>\n",
       "      <td>0.768693</td>\n",
       "    </tr>\n",
       "    <tr>\n",
       "      <th>16</th>\n",
       "      <td>Burger</td>\n",
       "      <td>0.004337</td>\n",
       "      <td>0.006514</td>\n",
       "      <td>0.665758</td>\n",
       "    </tr>\n",
       "    <tr>\n",
       "      <th>17</th>\n",
       "      <td>French</td>\n",
       "      <td>0.003818</td>\n",
       "      <td>0.005869</td>\n",
       "      <td>0.650660</td>\n",
       "    </tr>\n",
       "    <tr>\n",
       "      <th>18</th>\n",
       "      <td>Woolworths</td>\n",
       "      <td>0.031349</td>\n",
       "      <td>0.049779</td>\n",
       "      <td>0.629755</td>\n",
       "    </tr>\n",
       "    <tr>\n",
       "      <th>19</th>\n",
       "      <td>Sunbites</td>\n",
       "      <td>0.006223</td>\n",
       "      <td>0.012694</td>\n",
       "      <td>0.490181</td>\n",
       "    </tr>\n",
       "  </tbody>\n",
       "</table>\n",
       "</div>"
      ],
      "text/plain": [
       "         brand  target_segment     other  brand_affinity\n",
       "0         Cobs        0.044831  0.038361        1.168651\n",
       "1       Kettle        0.192571  0.165381        1.164404\n",
       "2     Twisties        0.043935  0.037806        1.162137\n",
       "3     Tostitos        0.043558  0.038117        1.142742\n",
       "4      Doritos        0.108895  0.100242        1.086328\n",
       "5    Infuzions        0.061755  0.056921        1.084925\n",
       "6     Tyrrells        0.026917  0.025577        1.052420\n",
       "7     Cheezels        0.019846  0.018927        1.048560\n",
       "8     Pringles        0.104181  0.100647        1.035114\n",
       "9   GrainWaves        0.031962  0.030965        1.032194\n",
       "10       Thins        0.057182  0.057198        0.999711\n",
       "11      Smiths        0.115165  0.125327        0.918920\n",
       "12     Cheetos        0.010135  0.011899        0.851812\n",
       "13         RRD        0.054259  0.067839        0.799821\n",
       "14         NCC        0.024655  0.031171        0.790946\n",
       "15         CCs        0.014425  0.018766        0.768693\n",
       "16      Burger        0.004337  0.006514        0.665758\n",
       "17      French        0.003818  0.005869        0.650660\n",
       "18  Woolworths        0.031349  0.049779        0.629755\n",
       "19    Sunbites        0.006223  0.012694        0.490181"
      ]
     },
     "execution_count": 580,
     "metadata": {},
     "output_type": "execute_result"
    }
   ],
   "source": [
    "brand_prop['brand_affinity'] = brand_prop['target_segment']/brand_prop['other']\n",
    "brand_prop.sort_values(by='brand_affinity', ignore_index=True, ascending= False)"
   ]
  },
  {
   "cell_type": "code",
   "execution_count": 582,
   "metadata": {},
   "outputs": [],
   "source": [
    "segment_num_chips_by_size = pd.DataFrame(segment.groupby('chip_size').sum('prod_qty')['prod_qty']).reset_index()\n",
    "other_num_chips_by_size = pd.DataFrame(other.groupby('chip_size').sum('prod_qty')['prod_qty']).reset_index()"
   ]
  },
  {
   "cell_type": "code",
   "execution_count": 584,
   "metadata": {},
   "outputs": [],
   "source": [
    "segment_num_chips_by_size['target_segment'] = segment_num_chips_by_size['prod_qty'] / num_chips_segment\n",
    "other_num_chips_by_size['other'] = other_num_chips_by_size['prod_qty'] / num_chips_other\n",
    "\n",
    "brand_prop = segment_num_chips_by_size.merge(other_num_chips_by_size, on='chip_size')\n",
    "brand_prop.drop(columns=['prod_qty_x', 'prod_qty_y'], inplace=True)"
   ]
  },
  {
   "cell_type": "code",
   "execution_count": 586,
   "metadata": {},
   "outputs": [
    {
     "data": {
      "text/html": [
       "<div>\n",
       "<style scoped>\n",
       "    .dataframe tbody tr th:only-of-type {\n",
       "        vertical-align: middle;\n",
       "    }\n",
       "\n",
       "    .dataframe tbody tr th {\n",
       "        vertical-align: top;\n",
       "    }\n",
       "\n",
       "    .dataframe thead th {\n",
       "        text-align: right;\n",
       "    }\n",
       "</style>\n",
       "<table border=\"1\" class=\"dataframe\">\n",
       "  <thead>\n",
       "    <tr style=\"text-align: right;\">\n",
       "      <th></th>\n",
       "      <th>chip_size</th>\n",
       "      <th>target_segment</th>\n",
       "      <th>other</th>\n",
       "      <th>preferred_size</th>\n",
       "    </tr>\n",
       "  </thead>\n",
       "  <tbody>\n",
       "    <tr>\n",
       "      <th>0</th>\n",
       "      <td>270</td>\n",
       "      <td>0.030736</td>\n",
       "      <td>0.024848</td>\n",
       "      <td>1.236940</td>\n",
       "    </tr>\n",
       "    <tr>\n",
       "      <th>1</th>\n",
       "      <td>330</td>\n",
       "      <td>0.059728</td>\n",
       "      <td>0.050744</td>\n",
       "      <td>1.177032</td>\n",
       "    </tr>\n",
       "    <tr>\n",
       "      <th>2</th>\n",
       "      <td>110</td>\n",
       "      <td>0.102060</td>\n",
       "      <td>0.088903</td>\n",
       "      <td>1.147997</td>\n",
       "    </tr>\n",
       "    <tr>\n",
       "      <th>3</th>\n",
       "      <td>135</td>\n",
       "      <td>0.014519</td>\n",
       "      <td>0.012901</td>\n",
       "      <td>1.125448</td>\n",
       "    </tr>\n",
       "    <tr>\n",
       "      <th>4</th>\n",
       "      <td>210</td>\n",
       "      <td>0.027719</td>\n",
       "      <td>0.024762</td>\n",
       "      <td>1.119413</td>\n",
       "    </tr>\n",
       "    <tr>\n",
       "      <th>5</th>\n",
       "      <td>380</td>\n",
       "      <td>0.028426</td>\n",
       "      <td>0.025423</td>\n",
       "      <td>1.118130</td>\n",
       "    </tr>\n",
       "    <tr>\n",
       "      <th>6</th>\n",
       "      <td>134</td>\n",
       "      <td>0.104181</td>\n",
       "      <td>0.100647</td>\n",
       "      <td>1.035114</td>\n",
       "    </tr>\n",
       "    <tr>\n",
       "      <th>7</th>\n",
       "      <td>250</td>\n",
       "      <td>0.013199</td>\n",
       "      <td>0.012957</td>\n",
       "      <td>1.018687</td>\n",
       "    </tr>\n",
       "    <tr>\n",
       "      <th>8</th>\n",
       "      <td>175</td>\n",
       "      <td>0.268562</td>\n",
       "      <td>0.271649</td>\n",
       "      <td>0.988634</td>\n",
       "    </tr>\n",
       "    <tr>\n",
       "      <th>9</th>\n",
       "      <td>150</td>\n",
       "      <td>0.160420</td>\n",
       "      <td>0.162967</td>\n",
       "      <td>0.984374</td>\n",
       "    </tr>\n",
       "    <tr>\n",
       "      <th>10</th>\n",
       "      <td>170</td>\n",
       "      <td>0.079385</td>\n",
       "      <td>0.080680</td>\n",
       "      <td>0.983952</td>\n",
       "    </tr>\n",
       "    <tr>\n",
       "      <th>11</th>\n",
       "      <td>165</td>\n",
       "      <td>0.057088</td>\n",
       "      <td>0.061783</td>\n",
       "      <td>0.924004</td>\n",
       "    </tr>\n",
       "    <tr>\n",
       "      <th>12</th>\n",
       "      <td>190</td>\n",
       "      <td>0.010324</td>\n",
       "      <td>0.012390</td>\n",
       "      <td>0.833217</td>\n",
       "    </tr>\n",
       "    <tr>\n",
       "      <th>13</th>\n",
       "      <td>160</td>\n",
       "      <td>0.009051</td>\n",
       "      <td>0.012522</td>\n",
       "      <td>0.722825</td>\n",
       "    </tr>\n",
       "    <tr>\n",
       "      <th>14</th>\n",
       "      <td>70</td>\n",
       "      <td>0.004526</td>\n",
       "      <td>0.006379</td>\n",
       "      <td>0.709424</td>\n",
       "    </tr>\n",
       "    <tr>\n",
       "      <th>15</th>\n",
       "      <td>180</td>\n",
       "      <td>0.004243</td>\n",
       "      <td>0.006203</td>\n",
       "      <td>0.684007</td>\n",
       "    </tr>\n",
       "    <tr>\n",
       "      <th>16</th>\n",
       "      <td>220</td>\n",
       "      <td>0.004337</td>\n",
       "      <td>0.006514</td>\n",
       "      <td>0.665758</td>\n",
       "    </tr>\n",
       "    <tr>\n",
       "      <th>17</th>\n",
       "      <td>200</td>\n",
       "      <td>0.012068</td>\n",
       "      <td>0.018845</td>\n",
       "      <td>0.640399</td>\n",
       "    </tr>\n",
       "    <tr>\n",
       "      <th>18</th>\n",
       "      <td>125</td>\n",
       "      <td>0.003206</td>\n",
       "      <td>0.006188</td>\n",
       "      <td>0.518059</td>\n",
       "    </tr>\n",
       "    <tr>\n",
       "      <th>19</th>\n",
       "      <td>90</td>\n",
       "      <td>0.006223</td>\n",
       "      <td>0.012694</td>\n",
       "      <td>0.490181</td>\n",
       "    </tr>\n",
       "  </tbody>\n",
       "</table>\n",
       "</div>"
      ],
      "text/plain": [
       "    chip_size  target_segment     other  preferred_size\n",
       "0         270        0.030736  0.024848        1.236940\n",
       "1         330        0.059728  0.050744        1.177032\n",
       "2         110        0.102060  0.088903        1.147997\n",
       "3         135        0.014519  0.012901        1.125448\n",
       "4         210        0.027719  0.024762        1.119413\n",
       "5         380        0.028426  0.025423        1.118130\n",
       "6         134        0.104181  0.100647        1.035114\n",
       "7         250        0.013199  0.012957        1.018687\n",
       "8         175        0.268562  0.271649        0.988634\n",
       "9         150        0.160420  0.162967        0.984374\n",
       "10        170        0.079385  0.080680        0.983952\n",
       "11        165        0.057088  0.061783        0.924004\n",
       "12        190        0.010324  0.012390        0.833217\n",
       "13        160        0.009051  0.012522        0.722825\n",
       "14         70        0.004526  0.006379        0.709424\n",
       "15        180        0.004243  0.006203        0.684007\n",
       "16        220        0.004337  0.006514        0.665758\n",
       "17        200        0.012068  0.018845        0.640399\n",
       "18        125        0.003206  0.006188        0.518059\n",
       "19         90        0.006223  0.012694        0.490181"
      ]
     },
     "execution_count": 586,
     "metadata": {},
     "output_type": "execute_result"
    }
   ],
   "source": [
    "brand_prop['preferred_size'] = brand_prop['target_segment']/brand_prop['other']\n",
    "brand_prop.sort_values(by='preferred_size', ignore_index=True, ascending=False)"
   ]
  },
  {
   "cell_type": "code",
   "execution_count": 589,
   "metadata": {},
   "outputs": [
    {
     "data": {
      "text/plain": [
       "array(['Twisties'], dtype=object)"
      ]
     },
     "execution_count": 589,
     "metadata": {},
     "output_type": "execute_result"
    }
   ],
   "source": [
    "combined_df[combined_df['chip_size'] == 270]['brand'].unique()"
   ]
  }
 ],
 "metadata": {
  "kernelspec": {
   "display_name": "Python 3",
   "language": "python",
   "name": "python3"
  },
  "language_info": {
   "codemirror_mode": {
    "name": "ipython",
    "version": 3
   },
   "file_extension": ".py",
   "mimetype": "text/x-python",
   "name": "python",
   "nbconvert_exporter": "python",
   "pygments_lexer": "ipython3",
   "version": "3.7.3"
  }
 },
 "nbformat": 4,
 "nbformat_minor": 4
}
